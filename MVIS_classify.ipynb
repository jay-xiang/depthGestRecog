{
 "cells": [
  {
   "cell_type": "markdown",
   "metadata": {},
   "source": [
    "# MicroVision Classification Challenge\n",
    "\n",
    "The goal of this task is to understand your approach in solving a hand gesture classification problem using a dataset comprising of depth images obtained from a Kinect v2 Camera (obtained from [Kaggle](https://www.kaggle.com/gti-upm/depthgestrecog) and redistributed under the [Creative Commons Attribution-NonCommercial-ShareAlike 4.0 License)](https://creativecommons.org/licenses/by-nc-sa/4.0/legalcode). \n",
    "\n",
    "The database is composed by 11 different hand-gestures that are performed by 6 different subjects. The goal of the task is to classify a given frame into one of the 11 gesture classes. The dataset consists of static and dynamic(time-varying gestures: like palm_lr, thumb_ud). For the purpose of this task you can choose to consider all gestures to be static and time-independent.\n",
    "\n",
    "The database is structured in different folders as (a detailed description can be found below):\n",
    "\n",
    "    /fist (fist hand-gesture)\n",
    "        /fist/video_base_1 (base fist hand-gesture of subject 1)\n",
    "            /fist/video_base_1/s01_g10_011_1.png,...,s01_g10_050_1.png,...\n",
    "        /fist/video_base_2 (base fist hand-gesture of subject 2)\n",
    "            /fist/video_base_2/s02_g10_011_1.png,...,s02_g10_050_1.png,...\n",
    "        /fist/video_base_6 (base fist hand-gesture of subject 6)\n",
    "            /fist/video_base_6/s06_g10_011_1.png,...,s06_g10_050_1.png,...\n",
    "        /fist/video_moved_1_1 (moved up fist hand-gesture of subject 1)\n",
    "            /fist/video_moved_1_1/s01_g10_011_2.png,...,s01_g10_050_2.png,...\n",
    "        /fist/video_moved_1_2 (moved down fist hand-gesture of subject 1)\n",
    "            /fist/video_moved_1_2/s01_g10_011_3.png,...,s01_g10_050_3.png,...\n",
    "        /fist/video_moved_1_8 (moved up and left fist hand-gesture of subject 1)\n",
    "        /fist/video_moved_1_8/s01_g10_011_9.png,...,s01_g10_050_9.png,...\n",
    "        /fist/video_moved_6_1 (moved up fist hand-gesture of subject 6)\n",
    "        /fist/video_moved_6_8 (moved up and left fist hand-gesture of subject 6)\n",
    "    /grab\n",
    "    /one_finger\n",
    "    /palm (palm hand-gesture)\n",
    "    /thumb_ud\n",
    "\n",
    "Every root folder (fist, grab,...) contains the range images of one hand-gesture. The folder name is the identifier of the hand-gesture (for example fist, palm, thumb_ud,...).\n",
    "\n",
    "Inside every root folder, there are 54 folders: 6 of them are the base hand-gestures (/fist/video_base_1,...,/fist/video_base_2) and the others are the moved hand-gestures used to increment the training samples (/fist/video_moved_1_1,...,/fist/video_moved_1_8,...,/fist/video_moved_6_1,...,/fist_video_moved_6_8). Inside every subfolder, there are a set of range hand images that can be true/positive samples or false/negative samples. The structure of the name of each frame is the same: sXX_gYY_ZZZ_M.png where: - XX is the subject identifier. - YY is the gesture identifier. - ZZZ is the number of the frame. - M indicates if the frame belongs to the base video (M = 1) or if it belongs to a moved video (M=2,...9).\n",
    "\n",
    "For example, the frame 's02_g_05_060_1' indicates that the frame belongs to the fifth gesture, which is performed by the second subject, it is the frame number 60, and it belongs to the base video.\n",
    "\n",
    "Some of the code snippets below may have bugs and/or can be optimized to improve performance. Feel free to correct and improve the code by editing and adding to the appropriate cells.\n",
    "\n",
    "If you do not have access to the computing resources required to train a ML based network, please include the full network architecture you propose, and fully functional code that will allow us to train the model on our end. You are free to choose the deep learning framework of your choice, or you may use an approach that is not deep learning based. \n",
    "\n",
    "The model must generalize to obtain high accuracy on data that was not included while training. Accuracy will be tested on a hidden test set.\n",
    "\n",
    "We expect you not to have to spend more than 4 hours on this task, including training time. Please feel free to mention in comments if there are further improvements you would have implemented in the future."
   ]
  },
  {
   "cell_type": "code",
   "execution_count": 2,
   "metadata": {},
   "outputs": [],
   "source": [
    "# Import any other libraries and frameworks you may be using\n",
    "\n",
    "import numpy as np\n",
    "import sys\n",
    "import os\n",
    "import matplotlib.pyplot as plt\n",
    "import scipy"
   ]
  },
  {
   "cell_type": "markdown",
   "metadata": {},
   "source": [
    "### Below cell is used to create a Python dictionary that maps the gesture string to a class number. The code is not optimal and there is a bug in the code that prevents it from executing. Please make changes as necessary."
   ]
  },
  {
   "cell_type": "code",
   "execution_count": 3,
   "metadata": {},
   "outputs": [],
   "source": [
    "data_dir = \"depthGestRecog/\"\n",
    "\n",
    "label_dict={}\n",
    "\n",
    "\n",
    "for label in os.listdir(data_dir):\n",
    "    for sub_dir in os.listdir(os.path.join(data_dir,label)):\n",
    "        class_num = int(os.listdir(os.path.join(data_dir,label,sub_dir))[0][5:7])\n",
    "\n",
    "    label_dict[label] = class_num    \n"
   ]
  },
  {
   "cell_type": "markdown",
   "metadata": {},
   "source": [
    "### Starter code to load data has been provided. Edit as necessary to change dimensions and optimize"
   ]
  },
  {
   "cell_type": "code",
   "execution_count": 4,
   "metadata": {},
   "outputs": [],
   "source": [
    "x = []\n",
    "y = []\n",
    "for root, _, files in os.walk(data_dir):\n",
    "    for i in range(len(files)):\n",
    "        x.append((plt.imread((os.path.join(root,files[i])))))\n",
    "        y.append((int(files[i][5:7])))\n",
    "        \n",
    "x = np.asarray(x, dtype=np.float32)\n",
    "y = np.asarray(y)"
   ]
  },
  {
   "cell_type": "markdown",
   "metadata": {},
   "source": [
    "### To Do: Convert labels to one-hot encoded vectors"
   ]
  },
  {
   "cell_type": "code",
   "execution_count": 5,
   "metadata": {},
   "outputs": [],
   "source": [
    "# Please implement (from scratch) a function that converts the labels to one-hot encoded vectors\n",
    "\n",
    "y_onehot = np.zeros((y.shape[0], len(label_dict)))\n",
    "for i in range(y.shape[0]):\n",
    "    y_onehot[i][y[i]-1] = 1"
   ]
  },
  {
   "cell_type": "markdown",
   "metadata": {},
   "source": [
    "### To Do: Split dataset into training and validation sets"
   ]
  },
  {
   "cell_type": "code",
   "execution_count": 6,
   "metadata": {},
   "outputs": [],
   "source": [
    "# You may perform this by using your own functions or using an existing library module\n",
    "\n",
    "from sklearn.model_selection import train_test_split\n",
    "\n",
    "x_train, x_test, y_train, y_test = train_test_split(x, y_onehot, test_size=0.2)\n",
    "\n",
    "n_train, n_test = x_train.shape[0], x_test.shape[0]"
   ]
  },
  {
   "cell_type": "markdown",
   "metadata": {},
   "source": [
    "### To Do: Visualize a few entries from dataset (Use matplotlib/OpenCV/PIL libraries)"
   ]
  },
  {
   "cell_type": "code",
   "execution_count": 7,
   "metadata": {},
   "outputs": [
    {
     "data": {
      "image/png": "[encoded data removed]",
      "text/plain": [
       "<Figure size 432x288 with 1 Axes>"
      ]
     },
     "metadata": {
      "needs_background": "light"
     },
     "output_type": "display_data"
    },
    {
     "name": "stdout",
     "output_type": "stream",
     "text": [
      "[1. 0. 0. 0. 0. 0. 0. 0. 0. 0. 0.]\n"
     ]
    },
    {
     "data": {
      "image/png": "[encoded data removed]",
      "text/plain": [
       "<Figure size 432x288 with 1 Axes>"
      ]
     },
     "metadata": {
      "needs_background": "light"
     },
     "output_type": "display_data"
    },
    {
     "name": "stdout",
     "output_type": "stream",
     "text": [
      "[0. 0. 0. 0. 0. 0. 0. 1. 0. 0. 0.]\n"
     ]
    }
   ],
   "source": [
    "import matplotlib\n",
    "\n",
    "for i in range(2):\n",
    "    entry_image = x_train[i]\n",
    "    plt.imshow(entry_image)\n",
    "    plt.axis(\"off\")\n",
    "    plt.show()\n",
    "    print(y_train[i])"
   ]
  },
  {
   "cell_type": "markdown",
   "metadata": {},
   "source": [
    "### To Do (Optional): Perform pre-processing/augmentation/fine-tuning if necessary"
   ]
  },
  {
   "cell_type": "code",
   "execution_count": 11,
   "metadata": {},
   "outputs": [],
   "source": [
    "#downsample images to 25x25\n",
    "x_train_downsampled = np.zeros((n_train, 25, 25))\n",
    "for i in range(x_train.shape[0]):\n",
    "    x_train_downsampled[i] = x_train[i][::4,::4]\n",
    "\n",
    "x_test_downsampled = np.zeros((n_train, 25, 25))\n",
    "for i in range(x_test.shape[0]):\n",
    "    x_test_downsampled[i] = x_test[i][::4,::4]\n",
    "    \n",
    "#normalize features\n",
    "from sklearn.preprocessing import MinMaxScaler\n",
    "scaler = MinMaxScaler()\n",
    "\n",
    "x_train_temp = x_train_downsampled.transpose(1,2,0).reshape(625, -1)\n",
    "x_test_temp = x_test_downsampled.transpose(1,2,0).reshape(625, -1)\n",
    "\n",
    "scaler.fit(x_train_temp)\n",
    "x_train_normalized = scaler.transform(x_train_temp)\n",
    "\n",
    "scaler.fit(x_test_temp)\n",
    "x_test_normalized = scaler.transform(x_test_temp)"
   ]
  },
  {
   "cell_type": "markdown",
   "metadata": {},
   "source": [
    "### To Do: Define Network Architecture and Hyperparameters\n"
   ]
  },
  {
   "cell_type": "code",
   "execution_count": 1,
   "metadata": {},
   "outputs": [
    {
     "ename": "NameError",
     "evalue": "name 'x_train_normalized' is not defined",
     "output_type": "error",
     "traceback": [
      "\u001b[0;31m---------------------------------------------------------------------------\u001b[0m",
      "\u001b[0;31mNameError\u001b[0m                                 Traceback (most recent call last)",
      "\u001b[0;32m<ipython-input-1-1b14e66f3cbd>\u001b[0m in \u001b[0;36m<module>\u001b[0;34m\u001b[0m\n\u001b[0;32m----> 1\u001b[0;31m \u001b[0mx_train\u001b[0m \u001b[0;34m=\u001b[0m \u001b[0mx_train_normalized\u001b[0m\u001b[0;34m.\u001b[0m\u001b[0mtranspose\u001b[0m\u001b[0;34m(\u001b[0m\u001b[0;36m1\u001b[0m\u001b[0;34m,\u001b[0m\u001b[0;36m0\u001b[0m\u001b[0;34m)\u001b[0m\u001b[0;34m\u001b[0m\u001b[0;34m\u001b[0m\u001b[0m\n\u001b[0m\u001b[1;32m      2\u001b[0m \u001b[0mx_test\u001b[0m \u001b[0;34m=\u001b[0m \u001b[0mx_test_normalized\u001b[0m\u001b[0;34m.\u001b[0m\u001b[0mtranspose\u001b[0m\u001b[0;34m(\u001b[0m\u001b[0;36m1\u001b[0m\u001b[0;34m,\u001b[0m\u001b[0;36m0\u001b[0m\u001b[0;34m)\u001b[0m\u001b[0;34m\u001b[0m\u001b[0;34m\u001b[0m\u001b[0m\n\u001b[1;32m      3\u001b[0m \u001b[0;34m\u001b[0m\u001b[0m\n\u001b[1;32m      4\u001b[0m \u001b[0;31m#Define learning_rate, n_of_epochs, batch_size etc.\u001b[0m\u001b[0;34m\u001b[0m\u001b[0;34m\u001b[0m\u001b[0;34m\u001b[0m\u001b[0m\n\u001b[1;32m      5\u001b[0m \u001b[0mbatch_size\u001b[0m \u001b[0;34m=\u001b[0m \u001b[0;36m50\u001b[0m\u001b[0;34m\u001b[0m\u001b[0;34m\u001b[0m\u001b[0m\n",
      "\u001b[0;31mNameError\u001b[0m: name 'x_train_normalized' is not defined"
     ]
    }
   ],
   "source": [
    "x_train = x_train_normalized.transpose(1,0)\n",
    "x_test = x_test_normalized.transpose(1,0)\n",
    "\n",
    "#Define learning_rate, n_of_epochs, batch_size etc.\n",
    "batch_size = 50\n",
    "\n",
    "#Please mention in comments your rationale behind selecting architecture, loss function, optimizers and  \n",
    "#other hyperparameters, with an overview of approach taken \n",
    "\n",
    "import tensorflow as tf\n",
    "sess = tf.InteractiveSession()\n",
    "\n",
    "def weight_variable(shape):\n",
    "    initial = tf.truncated_normal(shape, stddev=0.1)\n",
    "    return tf.Variable(initial)\n",
    "\n",
    "def bias_variable(shape):\n",
    "    initial = tf.constant(0.1, shape = shape)\n",
    "    return tf.Variable(initial)\n",
    "\n",
    "def conv2d(x, W):\n",
    "    return tf.nn.conv2d(x, W, strides=[1, 1, 1, 1], padding='SAME')\n",
    "\n",
    "def max_pool_2x2(x):\n",
    "    return tf.nn.max_pool(x, ksize=[1, 2, 2, 1], strides=[1, 2, 2, 1], padding='SAME')\n",
    "\n",
    "# Create the model\n",
    "x = tf.placeholder(\"float\", [None, 625])\n",
    "y_ = tf.placeholder(\"float\", [None, 11])\n",
    "\n",
    "W = tf.Variable(tf.zeros([625,11]))\n",
    "b = tf.Variable(tf.zeros([11]))\n",
    "\n",
    "y = tf.nn.softmax(tf.matmul(x,W) + b)\n",
    "\n",
    "# first convolutinal layer\n",
    "w_conv1 = weight_variable([5, 5, 1, 32])\n",
    "b_conv1 = bias_variable([32])\n",
    "\n",
    "x_image = tf.reshape(x, [-1, 25, 25, 1])\n",
    "\n",
    "h_conv1 = tf.nn.relu(conv2d(x_image, w_conv1) + b_conv1)\n",
    "h_pool1 = max_pool_2x2(h_conv1)\n",
    "\n",
    "# second convolutional layer\n",
    "w_conv2 = weight_variable([5, 5, 32, 64])\n",
    "b_conv2 = bias_variable([64])\n",
    "\n",
    "h_conv2 = tf.nn.relu(conv2d(h_pool1, w_conv2) + b_conv2)\n",
    "h_pool2 = max_pool_2x2(h_conv2)\n",
    "\n",
    "# densely connected layer\n",
    "w_fc1 = weight_variable([7*7*64, 1024])\n",
    "b_fc1 = bias_variable([1024])\n",
    "\n",
    "h_pool2_flat = tf.reshape(h_pool2, [-1, 7*7*64])\n",
    "h_fc1 = tf.nn.relu(tf.matmul(h_pool2_flat, w_fc1) + b_fc1)\n",
    "\n",
    "# dropout\n",
    "keep_prob = tf.placeholder(\"float\")\n",
    "h_fc1_drop = tf.nn.dropout(h_fc1, keep_prob)\n",
    "\n",
    "# readout layer\n",
    "w_fc2 = weight_variable([1024, 11])\n",
    "b_fc2 = bias_variable([11])\n",
    "\n",
    "y_conv = tf.nn.softmax(tf.matmul(h_fc1_drop, w_fc2) + b_fc2)\n",
    "\n",
    "# train and evaluate the model\n",
    "cross_entropy = -tf.reduce_sum(y_*tf.log(y_conv))\n",
    "train_step = tf.train.GradientDescentOptimizer(1e-3).minimize(cross_entropy)\n",
    "correct_prediction = tf.equal(tf.argmax(y_conv, 1), tf.argmax(y_, 1))\n",
    "accuracy = tf.reduce_mean(tf.cast(correct_prediction, \"float\"))\n",
    "sess.run(tf.initialize_all_variables())\n",
    "\n",
    "for i in range(20000):\n",
    "    perm = np.arange(n_train)\n",
    "    np.random.shuffle(perm)\n",
    "    x_train = x_train[perm]\n",
    "    y_train = y_train[perm]\n",
    "    batch = x_train[0:batch_size], y_train[0:batch_size]\n",
    "    #if i%100 == 0:\n",
    "        #train_accuracy = accuracy.eval(feed_dict={x:batch[0], y_:batch[1], keep_prob:1.0})\n",
    "        #print(\"step %d, train accuracy %g\" %(i, train_accuracy))\n",
    "    train_step.run(feed_dict={x:batch[0], y_:batch[1], keep_prob:0.5})\n",
    "\n",
    "#print(\"test accuracy %g\" % accuracy.eval(feed_dict={x:mnist.test.images, y_:mnist.test.labels, keep_prob:1.0}))\n"
   ]
  },
  {
   "cell_type": "markdown",
   "metadata": {},
   "source": [
    "### To Do: Plot Training/Validation Losses, and Calculate Accuracy"
   ]
  },
  {
   "cell_type": "code",
   "execution_count": 2,
   "metadata": {},
   "outputs": [],
   "source": [
    "# 1) Using matplotlib, plot training loss, validation loss, training accuracy and \n",
    "#    validation accuracy with respect to epochs\n",
    "\n",
    "# 2) Define a function that takes in as input an array of 'n' images, and a list of 'n' corresponding \n",
    "#    class labels, and returns average classification accuracy."
   ]
  }
 ],
 "metadata": {
  "kernelspec": {
   "display_name": "Python 3",
   "language": "python",
   "name": "python3"
  },
  "language_info": {
   "codemirror_mode": {
    "name": "ipython",
    "version": 3
   },
   "file_extension": ".py",
   "mimetype": "text/x-python",
   "name": "python",
   "nbconvert_exporter": "python",
   "pygments_lexer": "ipython3",
   "version": "3.7.3"
  }
 },
 "nbformat": 4,
 "nbformat_minor": 2
}
