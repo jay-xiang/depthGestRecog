{
 "cells": [
  {
   "cell_type": "markdown",
   "metadata": {},
   "source": [
    "# MicroVision Classification Challenge\n",
    "\n",
    "The goal of this task is to understand your approach in solving a hand gesture classification problem using a dataset comprising of depth images obtained from a Kinect v2 Camera (obtained from [Kaggle](https://www.kaggle.com/gti-upm/depthgestrecog) and redistributed under the [Creative Commons Attribution-NonCommercial-ShareAlike 4.0 License)](https://creativecommons.org/licenses/by-nc-sa/4.0/legalcode). \n",
    "\n",
    "The database is composed by 11 different hand-gestures that are performed by 6 different subjects. The goal of the task is to classify a given frame into one of the 11 gesture classes. The dataset consists of static and dynamic(time-varying gestures: like palm_lr, thumb_ud). For the purpose of this task you can choose to consider all gestures to be static and time-independent.\n",
    "\n",
    "The database is structured in different folders as (a detailed description can be found below):\n",
    "\n",
    "    /fist (fist hand-gesture)\n",
    "        /fist/video_base_1 (base fist hand-gesture of subject 1)\n",
    "            /fist/video_base_1/s01_g10_011_1.png,...,s01_g10_050_1.png,...\n",
    "        /fist/video_base_2 (base fist hand-gesture of subject 2)\n",
    "            /fist/video_base_2/s02_g10_011_1.png,...,s02_g10_050_1.png,...\n",
    "        /fist/video_base_6 (base fist hand-gesture of subject 6)\n",
    "            /fist/video_base_6/s06_g10_011_1.png,...,s06_g10_050_1.png,...\n",
    "        /fist/video_moved_1_1 (moved up fist hand-gesture of subject 1)\n",
    "            /fist/video_moved_1_1/s01_g10_011_2.png,...,s01_g10_050_2.png,...\n",
    "        /fist/video_moved_1_2 (moved down fist hand-gesture of subject 1)\n",
    "            /fist/video_moved_1_2/s01_g10_011_3.png,...,s01_g10_050_3.png,...\n",
    "        /fist/video_moved_1_8 (moved up and left fist hand-gesture of subject 1)\n",
    "        /fist/video_moved_1_8/s01_g10_011_9.png,...,s01_g10_050_9.png,...\n",
    "        /fist/video_moved_6_1 (moved up fist hand-gesture of subject 6)\n",
    "        /fist/video_moved_6_8 (moved up and left fist hand-gesture of subject 6)\n",
    "    /grab\n",
    "    /one_finger\n",
    "    /palm (palm hand-gesture)\n",
    "    /thumb_ud\n",
    "\n",
    "Every root folder (fist, grab,...) contains the range images of one hand-gesture. The folder name is the identifier of the hand-gesture (for example fist, palm, thumb_ud,...).\n",
    "\n",
    "Inside every root folder, there are 54 folders: 6 of them are the base hand-gestures (/fist/video_base_1,...,/fist/video_base_2) and the others are the moved hand-gestures used to increment the training samples (/fist/video_moved_1_1,...,/fist/video_moved_1_8,...,/fist/video_moved_6_1,...,/fist_video_moved_6_8). Inside every subfolder, there are a set of range hand images that can be true/positive samples or false/negative samples. The structure of the name of each frame is the same: sXX_gYY_ZZZ_M.png where: - XX is the subject identifier. - YY is the gesture identifier. - ZZZ is the number of the frame. - M indicates if the frame belongs to the base video (M = 1) or if it belongs to a moved video (M=2,...9).\n",
    "\n",
    "For example, the frame 's02_g_05_060_1' indicates that the frame belongs to the fifth gesture, which is performed by the second subject, it is the frame number 60, and it belongs to the base video.\n",
    "\n",
    "Some of the code snippets below may have bugs and/or can be optimized to improve performance. Feel free to correct and improve the code by editing and adding to the appropriate cells.\n",
    "\n",
    "If you do not have access to the computing resources required to train a ML based network, please include the full network architecture you propose, and fully functional code that will allow us to train the model on our end. You are free to choose the deep learning framework of your choice, or you may use an approach that is not deep learning based. \n",
    "\n",
    "The model must generalize to obtain high accuracy on data that was not included while training. Accuracy will be tested on a hidden test set.\n",
    "\n",
    "We expect you not to have to spend more than 4 hours on this task, including training time. Please feel free to mention in comments if there are further improvements you would have implemented in the future."
   ]
  },
  {
   "cell_type": "code",
   "execution_count": null,
   "metadata": {},
   "outputs": [],
   "source": [
    "# Import any other libraries and frameworks you may be using\n",
    "\n",
    "import numpy as np\n",
    "import sys\n",
    "import os\n",
    "import matplotlib.pyplot as plt\n",
    "import scipy"
   ]
  },
  {
   "cell_type": "markdown",
   "metadata": {},
   "source": [
    "### Below cell is used to create a Python dictionary that maps the gesture string to a class number. The code is not optimal and there is a bug in the code that prevents it from executing. Please make changes as necessary."
   ]
  },
  {
   "cell_type": "code",
   "execution_count": null,
   "metadata": {},
   "outputs": [],
   "source": [
    "data_dir = \"depthGestRecog/\"\n",
    "\n",
    "label_dict={}\n",
    "\n",
    "\n",
    "for label in os.listdir(data_dir):\n",
    "    for sub_dir in os.listdir(os.path.join(data_dir,label)):\n",
    "        class_num = int(os.listdir(os.path.join(data_dir,label,sub_dir))[:,0][5:7])\n",
    "\n",
    "    label_dict[label] = class_num\n",
    "    \n"
   ]
  },
  {
   "cell_type": "markdown",
   "metadata": {},
   "source": [
    "### Starter code to load data has been provided. Edit as necessary to change dimensions and optimize"
   ]
  },
  {
   "cell_type": "code",
   "execution_count": null,
   "metadata": {},
   "outputs": [],
   "source": [
    "x = []\n",
    "y = []\n",
    "for root, _, files in os.walk(data_dir):\n",
    "    for i in range(len(files)):\n",
    "        x.append((plt.imread((os.path.join(root,files[i])))))\n",
    "        y.append((int(files[i][5:7])))\n",
    "        \n",
    "x = np.asarray(x, dtype=np.float32)\n",
    "y = np.asarray(y)"
   ]
  },
  {
   "cell_type": "markdown",
   "metadata": {},
   "source": [
    "### To Do: Convert labels to one-hot encoded vectors"
   ]
  },
  {
   "cell_type": "code",
   "execution_count": null,
   "metadata": {},
   "outputs": [],
   "source": [
    "# Please implement (from scratch) a function that converts the labels to one-hot encoded vectors"
   ]
  },
  {
   "cell_type": "markdown",
   "metadata": {},
   "source": [
    "### To Do: Split dataset into training and validation sets"
   ]
  },
  {
   "cell_type": "code",
   "execution_count": null,
   "metadata": {},
   "outputs": [],
   "source": [
    "# You may perform this by using your own functions or using an existing library module"
   ]
  },
  {
   "cell_type": "markdown",
   "metadata": {},
   "source": [
    "### To Do: Visualize a few entries from dataset (Use matplotlib/OpenCV/PIL libraries)"
   ]
  },
  {
   "cell_type": "code",
   "execution_count": null,
   "metadata": {},
   "outputs": [],
   "source": [
    "# "
   ]
  },
  {
   "cell_type": "markdown",
   "metadata": {},
   "source": [
    "### To Do (Optional): Perform pre-processing/augmentation/fine-tuning if necessary"
   ]
  },
  {
   "cell_type": "code",
   "execution_count": null,
   "metadata": {},
   "outputs": [],
   "source": [
    "#"
   ]
  },
  {
   "cell_type": "markdown",
   "metadata": {},
   "source": [
    "### To Do: Define Network Architecture and Hyperparameters\n"
   ]
  },
  {
   "cell_type": "code",
   "execution_count": 1,
   "metadata": {},
   "outputs": [],
   "source": [
    "#Define learning_rate, n_of_epochs, batch_size etc.\n",
    "\n",
    "\n",
    "#Please mention in comments your rationale behind selecting architecture, loss function, optimizers and  \n",
    "#other hyperparameters, with an overview of approach taken \n"
   ]
  },
  {
   "cell_type": "markdown",
   "metadata": {},
   "source": [
    "### To Do: Plot Training/Validation Losses, and Calculate Accuracy"
   ]
  },
  {
   "cell_type": "code",
   "execution_count": 2,
   "metadata": {},
   "outputs": [],
   "source": [
    "# 1) Using matplotlib, plot training loss, validation loss, training accuracy and \n",
    "#    validation accuracy with respect to epochs\n",
    "\n",
    "# 2) Define a function that takes in as input an array of 'n' images, and a list of 'n' corresponding \n",
    "#    class labels, and returns average classification accuracy."
   ]
  }
 ],
 "metadata": {
  "kernelspec": {
   "display_name": "Python 2",
   "language": "python",
   "name": "python2"
  },
  "language_info": {
   "codemirror_mode": {
    "name": "ipython",
    "version": 2
   },
   "file_extension": ".py",
   "mimetype": "text/x-python",
   "name": "python",
   "nbconvert_exporter": "python",
   "pygments_lexer": "ipython2",
   "version": "2.7.15"
  }
 },
 "nbformat": 4,
 "nbformat_minor": 2
}
